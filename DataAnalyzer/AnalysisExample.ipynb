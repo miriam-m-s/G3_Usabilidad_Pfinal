{
 "cells": [
  {
   "cell_type": "markdown",
   "metadata": {},
   "source": [
    "## Análisis y comparativa de registros de eyetracking en las partidas de dos jugadores en Monkey Delivery "
   ]
  },
  {
   "cell_type": "code",
   "execution_count": 4,
   "metadata": {},
   "outputs": [],
   "source": [
    "from HeatmapCreator import dataAnalyzer\n",
    "import json"
   ]
  },
  {
   "cell_type": "code",
   "execution_count": 19,
   "metadata": {},
   "outputs": [
    {
     "name": "stdout",
     "output_type": "stream",
     "text": [
      "0\n",
      "1\n",
      "6\n"
     ]
    }
   ],
   "source": [
    "#Datos de la partida del jugador 1\n",
    "with open('MonkeyData/1715854214.json', 'r') as json_data:\n",
    "            dataP1 = json.load(json_data)\n",
    "dataP1= dataP1['Events']\n",
    "#Busco hasta que encuentro el evento de inicio de misión\n",
    "initMisionTime = 0\n",
    "endMisionTime = 0\n",
    "for i in range(0,len(dataP1)-1):\n",
    "    print(i)\n",
    "    if (dataP1[i]['type'] == 'MissionStartEvent'):        \n",
    "        initMisionTime = dataP1[i]['Timestamp'] \n",
    "        endMisionTime = dataP1[i+1]['Timestamp']\n",
    "        break\n",
    "misionDuration= endMisionTime - initMisionTime\n",
    "print(misionDuration)"
   ]
  },
  {
   "cell_type": "code",
   "execution_count": null,
   "metadata": {},
   "outputs": [],
   "source": []
  }
 ],
 "metadata": {
  "kernelspec": {
   "display_name": "Python 3",
   "language": "python",
   "name": "python3"
  },
  "language_info": {
   "codemirror_mode": {
    "name": "ipython",
    "version": 3
   },
   "file_extension": ".py",
   "mimetype": "text/x-python",
   "name": "python",
   "nbconvert_exporter": "python",
   "pygments_lexer": "ipython3",
   "version": "3.12.3"
  }
 },
 "nbformat": 4,
 "nbformat_minor": 2
}
